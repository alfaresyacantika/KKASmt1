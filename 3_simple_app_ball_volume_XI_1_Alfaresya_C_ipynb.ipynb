{
  "nbformat": 4,
  "nbformat_minor": 0,
  "metadata": {
    "colab": {
      "provenance": [],
      "authorship_tag": "ABX9TyNsFA8XNz3VK4NER6Zmug2e",
      "include_colab_link": true
    },
    "kernelspec": {
      "name": "python3",
      "display_name": "Python 3"
    },
    "language_info": {
      "name": "python"
    }
  },
  "cells": [
    {
      "cell_type": "markdown",
      "metadata": {
        "id": "view-in-github",
        "colab_type": "text"
      },
      "source": [
        "<a href=\"https://colab.research.google.com/github/alfaresyacantika/KKASmt1/blob/main/3_simple_app_ball_volume_XI_1_Alfaresya_C_ipynb.ipynb\" target=\"_parent\"><img src=\"https://colab.research.google.com/assets/colab-badge.svg\" alt=\"Open In Colab\"/></a>"
      ]
    },
    {
      "cell_type": "markdown",
      "source": [
        "Nama : Alfaresya Cantika\n",
        "\n",
        "Kelas : XI.1\n",
        "\n",
        "No Absen : 02\n",
        "\n",
        "Nama Kelompok : Lana del rey"
      ],
      "metadata": {
        "id": "X_R1f-r6gv6z"
      }
    },
    {
      "cell_type": "code",
      "source": [
        "Jari_jari = float(input(\"masukkan jari jari kerucut:\"))\n",
        "Tinggi = float(input(\" masukkan tinggi kerucut:\"))\n",
        "pi = 3.14\n",
        "volume =(1/3)* pi * (Jari_jari**2)* Tinggi\n",
        "print(f\" volume kerucut adalah {volume} cm^3\")"
      ],
      "metadata": {
        "colab": {
          "base_uri": "https://localhost:8080/"
        },
        "id": "us4kcFoWh38u",
        "outputId": "1c5b5d0e-e284-4f82-f628-e25c8a625548"
      },
      "execution_count": 20,
      "outputs": [
        {
          "output_type": "stream",
          "name": "stdout",
          "text": [
            "masukkan jari jari kerucut:7\n",
            " masukkan tinggi kerucut:14\n",
            " volume kerucut adalah 718.0133333333333 cm^3\n"
          ]
        }
      ]
    }
  ]
}