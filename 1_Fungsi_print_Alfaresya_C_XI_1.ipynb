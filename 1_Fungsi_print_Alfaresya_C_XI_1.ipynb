{
  "nbformat": 4,
  "nbformat_minor": 0,
  "metadata": {
    "colab": {
      "provenance": [],
      "authorship_tag": "ABX9TyPGXXHiFzrpenjONK1mbVqf",
      "include_colab_link": true
    },
    "kernelspec": {
      "name": "python3",
      "display_name": "Python 3"
    },
    "language_info": {
      "name": "python"
    }
  },
  "cells": [
    {
      "cell_type": "markdown",
      "metadata": {
        "id": "view-in-github",
        "colab_type": "text"
      },
      "source": [
        "<a href=\"https://colab.research.google.com/github/alfaresyacantika/KKASmt1/blob/main/1_Fungsi_print_Alfaresya_C_XI_1.ipynb\" target=\"_parent\"><img src=\"https://colab.research.google.com/assets/colab-badge.svg\" alt=\"Open In Colab\"/></a>"
      ]
    },
    {
      "cell_type": "markdown",
      "source": [
        "#Menampilkan Teks Bebas"
      ],
      "metadata": {
        "id": "0bjia5cGf9N4"
      }
    },
    {
      "cell_type": "code",
      "source": [
        "print(\"Halo dunia \")"
      ],
      "metadata": {
        "colab": {
          "base_uri": "https://localhost:8080/"
        },
        "id": "dKOava7qgBVw",
        "outputId": "cc553295-be89-4381-ef22-e9b2d52e1f33"
      },
      "execution_count": null,
      "outputs": [
        {
          "output_type": "stream",
          "name": "stdout",
          "text": [
            "Halo dunia \n"
          ]
        }
      ]
    },
    {
      "cell_type": "code",
      "source": [
        "print(\"selamat datang di Python\")"
      ],
      "metadata": {
        "colab": {
          "base_uri": "https://localhost:8080/"
        },
        "id": "nW4Z5TjJgEC8",
        "outputId": "b38b5c90-232b-476a-b76c-0a94e42e35b8"
      },
      "execution_count": null,
      "outputs": [
        {
          "output_type": "stream",
          "name": "stdout",
          "text": [
            "selamat datang di Python\n"
          ]
        }
      ]
    },
    {
      "cell_type": "code",
      "source": [
        "print(\"Alfaresya Cantika\")"
      ],
      "metadata": {
        "colab": {
          "base_uri": "https://localhost:8080/"
        },
        "id": "PR_jbIB9gJG3",
        "outputId": "191f64b6-403f-4bb9-fb3a-f0796cd9b439"
      },
      "execution_count": null,
      "outputs": [
        {
          "output_type": "stream",
          "name": "stdout",
          "text": [
            "Alfaresya Cantika\n"
          ]
        }
      ]
    },
    {
      "cell_type": "markdown",
      "source": [
        "#Menampilkan Nilai Variabel"
      ],
      "metadata": {
        "id": "eehw5uqRgQ0X"
      }
    },
    {
      "cell_type": "code",
      "source": [
        "BB = 46\n",
        "print(BB)"
      ],
      "metadata": {
        "colab": {
          "base_uri": "https://localhost:8080/"
        },
        "id": "0a_MKl1AgS5c",
        "outputId": "fb6092ba-09d3-4e5d-ddcb-1f41f13ce113"
      },
      "execution_count": null,
      "outputs": [
        {
          "output_type": "stream",
          "name": "stdout",
          "text": [
            "46\n"
          ]
        }
      ]
    },
    {
      "cell_type": "code",
      "source": [
        "UMUR = 16\n",
        "print(UMUR)"
      ],
      "metadata": {
        "colab": {
          "base_uri": "https://localhost:8080/"
        },
        "id": "e5YmOw7_gYvw",
        "outputId": "7fddaee5-f86d-4299-def7-cc339c8c8dac"
      },
      "execution_count": null,
      "outputs": [
        {
          "output_type": "stream",
          "name": "stdout",
          "text": [
            "16\n"
          ]
        }
      ]
    },
    {
      "cell_type": "code",
      "source": [
        "nama = \"Alfaresya Cantika\""
      ],
      "metadata": {
        "id": "gqmqGwgWgdDc"
      },
      "execution_count": null,
      "outputs": []
    },
    {
      "cell_type": "markdown",
      "source": [
        "#Menampilkan Teks Bebas dan Variabel"
      ],
      "metadata": {
        "id": "xaqAzyZUgna-"
      }
    },
    {
      "cell_type": "code",
      "source": [
        "print(f\"umur saya {UMUR} tahun\")"
      ],
      "metadata": {
        "colab": {
          "base_uri": "https://localhost:8080/"
        },
        "id": "GaXZdZ86gre6",
        "outputId": "804f07c1-39f9-4197-8ca4-e76c91c93cd3"
      },
      "execution_count": null,
      "outputs": [
        {
          "output_type": "stream",
          "name": "stdout",
          "text": [
            "umur saya 16 tahun\n"
          ]
        }
      ]
    },
    {
      "cell_type": "code",
      "source": [
        "print(\"Halo \" + nama)"
      ],
      "metadata": {
        "id": "dS1DCdiWhKMn",
        "outputId": "b1deac34-e272-42a8-fe3c-ee62bbac911f",
        "colab": {
          "base_uri": "https://localhost:8080/"
        }
      },
      "execution_count": null,
      "outputs": [
        {
          "output_type": "stream",
          "name": "stdout",
          "text": [
            "Halo Alfaresya Cantika\n"
          ]
        }
      ]
    },
    {
      "cell_type": "markdown",
      "source": [
        "#Menampilkan Variabel dan Teks Bebas"
      ],
      "metadata": {
        "id": "VGXF9QGZB9so"
      }
    },
    {
      "cell_type": "code",
      "source": [
        "harga_telur = 26000\n",
        "\n",
        "print(\"Harga telur per 1 kg adalah\", harga_telur)"
      ],
      "metadata": {
        "colab": {
          "base_uri": "https://localhost:8080/"
        },
        "id": "ZMRv4toHEzy_",
        "outputId": "7932b789-a457-413a-f6b4-29eb3bc9dbd7"
      },
      "execution_count": null,
      "outputs": [
        {
          "output_type": "stream",
          "name": "stdout",
          "text": [
            "Harga telur per 1 kg adalah 26000\n"
          ]
        }
      ]
    },
    {
      "cell_type": "code",
      "execution_count": null,
      "metadata": {
        "colab": {
          "base_uri": "https://localhost:8080/"
        },
        "id": "9BY120Z0_jtd",
        "outputId": "702d8e72-bd7f-462d-c8bb-ac507d98eff8"
      },
      "outputs": [
        {
          "output_type": "stream",
          "name": "stdout",
          "text": [
            "Harga telur per 1 kg adalah 26000\n"
          ]
        }
      ],
      "source": [
        "harga_telur = 26000\n",
        "\n",
        "\n",
        "print(\"Harga telur per 1 kg adalah \" + str(harga_telur))"
      ]
    },
    {
      "cell_type": "code",
      "source": [
        "nama_pembeli = \"Alfaresya\"\n",
        "\n",
        "print(\"nama pembeli telur adalah \" + nama_pembeli)"
      ],
      "metadata": {
        "colab": {
          "base_uri": "https://localhost:8080/"
        },
        "id": "kEnhUCe0DLAj",
        "outputId": "29b5387b-3701-46e5-dadc-71f515b7d989"
      },
      "execution_count": null,
      "outputs": [
        {
          "output_type": "stream",
          "name": "stdout",
          "text": [
            "nama pembeli telur adalah Alfaresya\n"
          ]
        }
      ]
    },
    {
      "cell_type": "markdown",
      "source": [
        "Latihan Soal\n",
        "\n",
        "1. Tampilkan teks bebas : Hari ini saya bahagia belajar bahasa python\n",
        "2. Tampilkan nilai variabel : mata_pelajaran_favorit = Kode dan kecerdasan Buatan\n",
        "3. Tampilkan nilai variabel = nilai_kka = 100\n",
        "4. Tampilkan teks bebas dan nilai variabel dengan tiga metode (f string, \"+\", \",\"): Nilai KKA saya adalah {nilai_kka} loh!\""
      ],
      "metadata": {
        "id": "cZAtXaUUGrLz"
      }
    },
    {
      "cell_type": "code",
      "source": [
        "print(\"Hari ini saya bahagia belajar bahasa python\")"
      ],
      "metadata": {
        "colab": {
          "base_uri": "https://localhost:8080/"
        },
        "id": "6lHG0qJGX18x",
        "outputId": "78f23064-04a7-4742-d9fb-1e3a983bf89a"
      },
      "execution_count": null,
      "outputs": [
        {
          "output_type": "stream",
          "name": "stdout",
          "text": [
            "Hari ini saya bahagia belajar bahasa python\n"
          ]
        }
      ]
    },
    {
      "cell_type": "code",
      "source": [
        "mata_pelajaran_favorit = \"Kode dan Kecerdasan Buatan\"\n",
        "print(mata_pelajaran_favorit)"
      ],
      "metadata": {
        "colab": {
          "base_uri": "https://localhost:8080/"
        },
        "id": "xkTNeR0PZkm_",
        "outputId": "6ed7d5dd-713a-44b7-e708-2b1745c63de3"
      },
      "execution_count": null,
      "outputs": [
        {
          "output_type": "stream",
          "name": "stdout",
          "text": [
            "Kode dan Kecerdasan Buatan\n"
          ]
        }
      ]
    },
    {
      "cell_type": "code",
      "source": [
        "nilai_kka = \"100\"\n",
        "print(nilai_kka)"
      ],
      "metadata": {
        "colab": {
          "base_uri": "https://localhost:8080/"
        },
        "id": "1jGxQVQZafMw",
        "outputId": "2f2c00e9-fbcc-4a76-f09c-f5c760000fe2"
      },
      "execution_count": null,
      "outputs": [
        {
          "output_type": "stream",
          "name": "stdout",
          "text": [
            "100\n"
          ]
        }
      ]
    },
    {
      "cell_type": "code",
      "source": [
        "print(\"Nilai KKA saya adalah \" , nilai_kka + \" loh!\")"
      ],
      "metadata": {
        "colab": {
          "base_uri": "https://localhost:8080/"
        },
        "id": "Hwc9_nbYcl2L",
        "outputId": "9de1bd60-2d2e-48a2-ab23-b63ee61a904f"
      },
      "execution_count": null,
      "outputs": [
        {
          "output_type": "stream",
          "name": "stdout",
          "text": [
            "Nilai KKA saya adalah  100 loh!\n"
          ]
        }
      ]
    },
    {
      "cell_type": "code",
      "source": [
        "print(\"Nilai KKA saya adalah \" + str(nilai_kka) + \" loh!\")"
      ],
      "metadata": {
        "colab": {
          "base_uri": "https://localhost:8080/"
        },
        "id": "JN1_S2h9c4g_",
        "outputId": "2377c4c5-d5e1-426e-c993-e87459200139"
      },
      "execution_count": null,
      "outputs": [
        {
          "output_type": "stream",
          "name": "stdout",
          "text": [
            "Nilai KKA saya adalah 100 loh!\n"
          ]
        }
      ]
    },
    {
      "cell_type": "code",
      "source": [
        "print(f\"Nilai KKA saya adalah {nilai_kka} loh!\")"
      ],
      "metadata": {
        "colab": {
          "base_uri": "https://localhost:8080/"
        },
        "id": "OnRXlmoWa1sS",
        "outputId": "4ecf47a9-b6b4-4907-c0f5-9caa1a60461d"
      },
      "execution_count": null,
      "outputs": [
        {
          "output_type": "stream",
          "name": "stdout",
          "text": [
            "Nilai KKA saya adalah 100 loh!\n"
          ]
        }
      ]
    },
    {
      "cell_type": "markdown",
      "source": [
        "#Escape Character"
      ],
      "metadata": {
        "id": "1w7CCrGeJGPU"
      }
    },
    {
      "cell_type": "code",
      "source": [
        "print(\"Nama: Alfaresya Cantika\")\n",
        "print (\"Kelas: XI.1\")\n",
        "print(\"Nomor absen: 02\")"
      ],
      "metadata": {
        "colab": {
          "base_uri": "https://localhost:8080/"
        },
        "id": "uCld92x2JLWK",
        "outputId": "5194479b-efb9-4054-8af9-f1312a8bf975"
      },
      "execution_count": null,
      "outputs": [
        {
          "output_type": "stream",
          "name": "stdout",
          "text": [
            "Nama: Alfaresya Cantika\n",
            "Kelas: XI.1\n",
            "Nomor absen: 02\n"
          ]
        }
      ]
    },
    {
      "cell_type": "code",
      "source": [
        "print(\"Nama: Alfaresya Cantika\\nKelas: XI.1\\nNomor absen: 02\")"
      ],
      "metadata": {
        "colab": {
          "base_uri": "https://localhost:8080/"
        },
        "id": "BGa-ohzxKES2",
        "outputId": "d7fe4def-80e6-40fe-a03d-7d486ef7ac07"
      },
      "execution_count": null,
      "outputs": [
        {
          "output_type": "stream",
          "name": "stdout",
          "text": [
            "Nama: Alfaresya Cantika\n",
            "Kelas: XI.1\n",
            "Nomor absen: 02\n"
          ]
        }
      ]
    },
    {
      "cell_type": "code",
      "source": [
        "print(\"\"\"Nama: Alfaresya Cantika\n",
        "Kelas: XI.1\n",
        "Nomor absen: 02\"\"\")"
      ],
      "metadata": {
        "colab": {
          "base_uri": "https://localhost:8080/"
        },
        "id": "hGdsKCCNK1Ci",
        "outputId": "2f0c2488-410f-4bf2-e973-34f43fa3bae5"
      },
      "execution_count": null,
      "outputs": [
        {
          "output_type": "stream",
          "name": "stdout",
          "text": [
            "Nama: Alfaresya Cantika\n",
            "Kelas: XI.1\n",
            "Nomor absen: 02\n"
          ]
        }
      ]
    },
    {
      "cell_type": "code",
      "source": [
        "print(\"Nama\\t\\t: Alfaresya Cantika\\nKelas\\t\\t: XI.1\\nNomor absen\\t: 02\")"
      ],
      "metadata": {
        "colab": {
          "base_uri": "https://localhost:8080/"
        },
        "id": "gjIVT1JELb54",
        "outputId": "ebce17c3-ec4e-4ee4-cdd8-36f51e5fe880"
      },
      "execution_count": null,
      "outputs": [
        {
          "output_type": "stream",
          "name": "stdout",
          "text": [
            "Nama\t\t: Alfaresya Cantika\n",
            "Kelas\t\t: XI.1\n",
            "Nomor absen\t: 02\n"
          ]
        }
      ]
    },
    {
      "cell_type": "code",
      "source": [
        "print('Ja\\'far Shodiq')"
      ],
      "metadata": {
        "colab": {
          "base_uri": "https://localhost:8080/"
        },
        "id": "v1HLhQm8AxQE",
        "outputId": "4d531bf1-399d-46cb-ea62-3b09467484f5"
      },
      "execution_count": null,
      "outputs": [
        {
          "output_type": "stream",
          "name": "stdout",
          "text": [
            "Ja'far Shodiq\n"
          ]
        }
      ]
    },
    {
      "cell_type": "code",
      "source": [
        "print(\"Ja'far Shodiq\")"
      ],
      "metadata": {
        "colab": {
          "base_uri": "https://localhost:8080/"
        },
        "id": "FKGFGOWQBZvp",
        "outputId": "7a78b29f-7479-45ca-f43d-44c3ba50cb7b"
      },
      "execution_count": null,
      "outputs": [
        {
          "output_type": "stream",
          "name": "stdout",
          "text": [
            "Ja'far Shodiq\n"
          ]
        }
      ]
    },
    {
      "cell_type": "code",
      "source": [
        "print(\"Bu Shinta berkata, \\\"Semua harus menyimak pelajaran.\\\"\")"
      ],
      "metadata": {
        "colab": {
          "base_uri": "https://localhost:8080/"
        },
        "id": "I9rmOw-NB0Ug",
        "outputId": "039f1a7e-ae9e-4e3a-ad02-830dae95a239"
      },
      "execution_count": null,
      "outputs": [
        {
          "output_type": "stream",
          "name": "stdout",
          "text": [
            "Bu Shinta berkata, \"Semua harus menyimak pelajaran.\"\n"
          ]
        }
      ]
    },
    {
      "cell_type": "code",
      "source": [
        "print('Bu Shinta berkata, \"Semua harus menyimak pelajaran. \"')"
      ],
      "metadata": {
        "colab": {
          "base_uri": "https://localhost:8080/"
        },
        "id": "kLlsxgHoCd9c",
        "outputId": "34b07600-b4ca-4be6-dbb5-b5b0f067ed52"
      },
      "execution_count": null,
      "outputs": [
        {
          "output_type": "stream",
          "name": "stdout",
          "text": [
            "Bu Shinta berkata, \"Semua harus menyimak pelajaran. \"\n"
          ]
        }
      ]
    },
    {
      "cell_type": "code",
      "source": [
        "print(\"Lokasi file video karnaval ada di D:\\\\Karnaval 2025\\\\mp4\")"
      ],
      "metadata": {
        "colab": {
          "base_uri": "https://localhost:8080/"
        },
        "id": "3IiI7l3aCqKD",
        "outputId": "bfbaceae-cf9d-4ad8-93a6-8ea15d5701aa"
      },
      "execution_count": null,
      "outputs": [
        {
          "output_type": "stream",
          "name": "stdout",
          "text": [
            "Lokasi file video karnaval ada di D:\\Karnaval 2025\\mp4\n"
          ]
        }
      ]
    },
    {
      "cell_type": "markdown",
      "source": [
        "#Parameter Fungsi Print"
      ],
      "metadata": {
        "id": "ocwcswotElyN"
      }
    },
    {
      "cell_type": "code",
      "source": [
        "Tahun = 2009\n",
        "Bulan = \"Mei\"\n",
        "Tanggal = 24\n",
        "\n",
        "print(Tanggal, end=\" \")\n",
        "print(Bulan, end=\" \")\n",
        "print(Tahun)"
      ],
      "metadata": {
        "colab": {
          "base_uri": "https://localhost:8080/"
        },
        "id": "k4Q4eFiJFHki",
        "outputId": "a472cbcd-b8c5-46f1-fca6-7f16cb8704ad"
      },
      "execution_count": null,
      "outputs": [
        {
          "output_type": "stream",
          "name": "stdout",
          "text": [
            "24 Mei 2009\n"
          ]
        }
      ]
    },
    {
      "cell_type": "code",
      "source": [
        "Tahun = 2009\n",
        "Bulan = \"Mei\"\n",
        "Tanggal = 24\n",
        "\n",
        "print(Tanggal, Bulan, Tahun, sep=\"/\")"
      ],
      "metadata": {
        "colab": {
          "base_uri": "https://localhost:8080/"
        },
        "id": "6rYJofSDHNqd",
        "outputId": "89489cba-d44c-4fcd-eb45-aced7334a8a7"
      },
      "execution_count": null,
      "outputs": [
        {
          "output_type": "stream",
          "name": "stdout",
          "text": [
            "24/Mei/2009\n"
          ]
        }
      ]
    },
    {
      "cell_type": "markdown",
      "source": [
        "Latihan:\n",
        "\n",
        "Tanggal-Bulan-Tahun"
      ],
      "metadata": {
        "id": "5_GzudULH0VE"
      }
    },
    {
      "cell_type": "code",
      "source": [
        "Nama_depan = \"Alfaresya\"\n",
        "Nama_belakang = \"Cantika\"\n",
        "\n",
        "print(Nama_depan, Nama_belakang)"
      ],
      "metadata": {
        "colab": {
          "base_uri": "https://localhost:8080/"
        },
        "id": "UapBeiwhH77A",
        "outputId": "eb6d37be-c1a7-4b16-a2a4-dd77dc104686"
      },
      "execution_count": null,
      "outputs": [
        {
          "output_type": "stream",
          "name": "stdout",
          "text": [
            "Alfaresya Cantika\n"
          ]
        }
      ]
    },
    {
      "cell_type": "code",
      "source": [
        "Nama_depan = \"Alfaresya\"\n",
        "Nama_belakang = \"Cantika\"\n",
        "\n",
        "print(Nama_depan, end=\" \")\n",
        "print(Nama_belakang)"
      ],
      "metadata": {
        "colab": {
          "base_uri": "https://localhost:8080/"
        },
        "id": "iPGQTpWgIdcU",
        "outputId": "f8cd6b68-5dac-4a3d-9f62-4c1a5b4d4dde"
      },
      "execution_count": null,
      "outputs": [
        {
          "output_type": "stream",
          "name": "stdout",
          "text": [
            "Alfaresya Cantika\n"
          ]
        }
      ]
    },
    {
      "cell_type": "code",
      "source": [
        "print(\"Bu shinta berkata, \\\"Berikut adalah judul pelajaran hari senin selasa rabu silahkan disimpan dilaptop masing masing di folder local disk D:\\\\Jadwal Pelajaran\\\\Kelas XI Semester 1.\\\"\")\n",
        "print(\"\\nJadwal Pelajaran Mingguan\")\n",
        "print(\"======================================================\")\n",
        "print(\"Jam\\tSenin\\t\\tSelasa\\t\\tRabu\")\n",
        "print(\"Jam 1\\tMatematika\\tBahasa\\t\\tInformatika\")\n",
        "print(\"Jam 2\\tBahasa Ing.\\tSejarah\\t\\tMa'rifatullah\")\n",
        "print(\"Jam 3\\tInformatika\\tOlahraga\\tBiologi\")"
      ],
      "metadata": {
        "colab": {
          "base_uri": "https://localhost:8080/"
        },
        "id": "VOG_vqd4LlCM",
        "outputId": "742f276f-d853-42d9-e89a-4ad32282c3d3"
      },
      "execution_count": null,
      "outputs": [
        {
          "output_type": "stream",
          "name": "stdout",
          "text": [
            "Bu shinta berkata, \"Berikut adalah judul pelajaran hari senin selasa rabu silahkan disimpan dilaptop masing masing di folder local disk D:\\Jadwal Pelajaran\\Kelas XI Semester 1.\"\n",
            "\n",
            "Jadwal Pelajaran Mingguan\n",
            "======================================================\n",
            "Jam\tSenin\t\tSelasa\t\tRabu\n",
            "Jam 1\tMatematika\tBahasa\t\tInformatika\n",
            "Jam 2\tBahasa Ing.\tSejarah\t\tMa'rifatullah\n",
            "Jam 3\tInformatika\tOlahraga\tBiologi\n"
          ]
        }
      ]
    },
    {
      "cell_type": "markdown",
      "source": [
        "#Parameter Fungsi"
      ],
      "metadata": {
        "id": "r4cPdUelJyfu"
      }
    },
    {
      "cell_type": "code",
      "source": [
        "nama_siswa_1 = \"Favian\"\n",
        "nama_siswa_2 = \"Naufal\"\n",
        "nama_siswa_3 = \"Humaira\"\n",
        "\n",
        "print(nama_siswa_1, nama_siswa_2, nama_siswa_3, sep= \"*\")"
      ],
      "metadata": {
        "colab": {
          "base_uri": "https://localhost:8080/"
        },
        "id": "yKeZtQDRF9bq",
        "outputId": "a84a9c3e-20d3-44d0-f2fa-33fe4bd1b6c1"
      },
      "execution_count": null,
      "outputs": [
        {
          "output_type": "stream",
          "name": "stdout",
          "text": [
            "Favian*Naufal*Humaira\n"
          ]
        }
      ]
    },
    {
      "cell_type": "code",
      "source": [
        "nama_siswa = \"Naufal~Favian~Humaira~Favian\"\n",
        "print(nama_siswa, sep= \" \")"
      ],
      "metadata": {
        "colab": {
          "base_uri": "https://localhost:8080/"
        },
        "id": "62HjPXSFGG1t",
        "outputId": "c63d1785-c926-4b11-cf8f-d9c66211a758"
      },
      "execution_count": null,
      "outputs": [
        {
          "output_type": "stream",
          "name": "stdout",
          "text": [
            "Naufal~Favian~Humaira~Favian\n"
          ]
        }
      ]
    },
    {
      "cell_type": "code",
      "source": [
        "nama_siswa_1 = \"Naufal\"\n",
        "nama_siswa_2 = \"Favian\"\n",
        "nama_siswa_3 = \"Humaira\"\n",
        "nama_siswa_4 = \"Favian\"\n",
        "\n",
        "print(nama_siswa_1, end= \"~\")\n",
        "print(nama_siswa_2)\n",
        "\n",
        "print(nama_siswa_3, end= \"~\")\n",
        "print(nama_siswa_4)"
      ],
      "metadata": {
        "colab": {
          "base_uri": "https://localhost:8080/"
        },
        "id": "RBcbSgfqGddd",
        "outputId": "08f623f2-12a8-43de-e605-88e844afd498"
      },
      "execution_count": null,
      "outputs": [
        {
          "output_type": "stream",
          "name": "stdout",
          "text": [
            "Naufal~Favian\n",
            "Humaira~Favian\n"
          ]
        }
      ]
    }
  ]
}